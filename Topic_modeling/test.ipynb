{
 "cells": [
  {
   "cell_type": "markdown",
   "metadata": {},
   "source": [
    "get example text"
   ]
  },
  {
   "cell_type": "code",
   "execution_count": 1,
   "metadata": {},
   "outputs": [
    {
     "data": {
      "text/plain": [
       "\"Vanity is an interesting word. If you look up vanity in the dictionary, you'll discover that it can mean both excessive pride and something that is empty, futile, or without value. It's intriguing to think that we can be proud of something that matters very little. But this does happen sometimes, especially when it comes to business metrics. In fact, those of us in business intelligence have a term for this phenomenon: vanity metrics. Vanity metrics are data points that are intended to impress others but are not indicative of actual performance and therefore cannot reveal any meaningful business insights. A well-known vanity metric is the number of people following a company on social media. Maybe there are hundreds of thousands of followers but how many of them are actually making a purchase, how many of them refer other customers to the site, and how much revenue do they actually generate for the business? Showing off a number just because it's big, rarely accomplishes much. And that's why it's critical to ensure each metric you monitor is productive, informative, and effective. For example, some useful business metrics might include a restaurant's customer loyalty rate, a manufacturing team's productivity levels, a fitness center's monthly profits and losses, or the amount of inventory in a pharmacy's warehouse. These are numbers that can lead to useful business insights. When determining which metrics to include on a dashboard, BI professionals consider four key things. First, more information is not necessarily better. Your stakeholders will appreciate it if you limit the number of metrics on your dashboards by including only those that are critical to project success. Do this by thinking about user requirements, what users already know, and what they need to learn to help them meet those requirements. Too many metrics, especially irrelevant or unnecessary metrics, can confuse people and devalue your dashboard. Next, makes sure metrics are aligned with business objectives. Consider your organization's specific goals, then pinpoint which metrics can be used to support them and measure success. Confirm that the necessary technologies and processes are in place to obtain and analyze the data you need for each metric. This is another time to think about all the factors related to data availability. Avoid vague or super high level metrics. Instead, they should be clear and precise enough to inform a particular action. The SMART methodology can help you identify the key metrics for the particular issue at hand. As you may know, this tool helps determine a question's effectiveness. However, it can also help you refine metrics based on whether they are specific, measurable, action-oriented, relevant, and time-bound. If you earned the Google Data Analytics Certificate, you learned about the SMART methodology. Feel free to review that lesson before moving ahead. As a final point, it's wise to identify the most important metric first and prominently display it at the top of your dashboard. Then supporting metrics can drill down into the details below. For instance, when making a dashboard for a tomato farm, you might put the number of tomato pallets shipped at the top because total sales is a key metric. Then the data that supports pallet shipments, such as worker productivity and the efficiency of the harvesting machines would be displayed underneath. In addition, your users will appreciate it if you group related metrics together. For our tomato farmer, that would mean placing sales data in one section, production insights in another, harvest rates in another, and so on. Keep in mind that the best metrics highlight two key things, how the organization is doing, and what decision-makers should focus on. In other words, they ensure your dashboards are never created in vain.\""
      ]
     },
     "execution_count": 1,
     "metadata": {},
     "output_type": "execute_result"
    }
   ],
   "source": [
    "f = open(\"test_doc.txt\", \"r\")\n",
    "sam1 = f.read()\n",
    "\n",
    "sam1"
   ]
  },
  {
   "cell_type": "markdown",
   "metadata": {},
   "source": [
    "Text preprocessing"
   ]
  },
  {
   "cell_type": "code",
   "execution_count": 2,
   "metadata": {},
   "outputs": [
    {
     "data": {
      "text/plain": [
       "['Vanity',\n",
       " 'interesting',\n",
       " 'word',\n",
       " 'look',\n",
       " 'vanity',\n",
       " 'dictionary',\n",
       " 'discover',\n",
       " 'mean',\n",
       " 'excessive',\n",
       " 'pride',\n",
       " 'futile',\n",
       " 'value',\n",
       " 'intriguing',\n",
       " 'think',\n",
       " 'proud',\n",
       " 'matter',\n",
       " 'little',\n",
       " 'happen',\n",
       " 'especially',\n",
       " 'come',\n",
       " 'business',\n",
       " 'metric',\n",
       " 'fact',\n",
       " 'business',\n",
       " 'intelligence',\n",
       " 'term',\n",
       " 'phenomenon',\n",
       " 'vanity',\n",
       " 'metric',\n",
       " 'vanity',\n",
       " 'metric',\n",
       " 'datum',\n",
       " 'point',\n",
       " 'intend',\n",
       " 'impress',\n",
       " 'indicative',\n",
       " 'actual',\n",
       " 'performance',\n",
       " 'reveal',\n",
       " 'meaningful',\n",
       " 'business',\n",
       " 'insight',\n",
       " 'know',\n",
       " 'vanity',\n",
       " 'metric',\n",
       " 'number',\n",
       " 'people',\n",
       " 'follow',\n",
       " 'company',\n",
       " 'social',\n",
       " 'medium',\n",
       " 'maybe',\n",
       " 'hundred',\n",
       " 'thousand',\n",
       " 'follower',\n",
       " 'actually',\n",
       " 'make',\n",
       " 'purchase',\n",
       " 'refer',\n",
       " 'customer',\n",
       " 'site',\n",
       " 'revenue',\n",
       " 'actually',\n",
       " 'generate',\n",
       " 'business',\n",
       " 'show',\n",
       " 'number',\n",
       " 'big',\n",
       " 'rarely',\n",
       " 'accomplish',\n",
       " 'critical',\n",
       " 'ensure',\n",
       " 'metric',\n",
       " 'monitor',\n",
       " 'productive',\n",
       " 'informative',\n",
       " 'effective',\n",
       " 'example',\n",
       " 'useful',\n",
       " 'business',\n",
       " 'metric',\n",
       " 'include',\n",
       " 'restaurant',\n",
       " 'customer',\n",
       " 'loyalty',\n",
       " 'rate',\n",
       " 'manufacturing',\n",
       " 'team',\n",
       " 'productivity',\n",
       " 'level',\n",
       " 'fitness',\n",
       " 'center',\n",
       " 'monthly',\n",
       " 'profit',\n",
       " 'loss',\n",
       " 'inventory',\n",
       " 'pharmacy',\n",
       " 'warehouse',\n",
       " 'number',\n",
       " 'lead',\n",
       " 'useful',\n",
       " 'business',\n",
       " 'insight',\n",
       " 'determine',\n",
       " 'metric',\n",
       " 'include',\n",
       " 'dashboard',\n",
       " 'BI',\n",
       " 'professional',\n",
       " 'consider',\n",
       " 'key',\n",
       " 'thing',\n",
       " 'information',\n",
       " 'necessarily',\n",
       " 'well',\n",
       " 'stakeholder',\n",
       " 'appreciate',\n",
       " 'limit',\n",
       " 'number',\n",
       " 'metric',\n",
       " 'dashboard',\n",
       " 'include',\n",
       " 'critical',\n",
       " 'project',\n",
       " 'success',\n",
       " 'think',\n",
       " 'user',\n",
       " 'requirement',\n",
       " 'user',\n",
       " 'know',\n",
       " 'need',\n",
       " 'learn',\n",
       " 'help',\n",
       " 'meet',\n",
       " 'requirement',\n",
       " 'metric',\n",
       " 'especially',\n",
       " 'irrelevant',\n",
       " 'unnecessary',\n",
       " 'metric',\n",
       " 'confuse',\n",
       " 'people',\n",
       " 'devalue',\n",
       " 'dashboard',\n",
       " 'make',\n",
       " 'sure',\n",
       " 'metric',\n",
       " 'align',\n",
       " 'business',\n",
       " 'objective',\n",
       " 'consider',\n",
       " 'organization',\n",
       " 'specific',\n",
       " 'goal',\n",
       " 'pinpoint',\n",
       " 'metric',\n",
       " 'support',\n",
       " 'measure',\n",
       " 'success',\n",
       " 'confirm',\n",
       " 'necessary',\n",
       " 'technology',\n",
       " 'process',\n",
       " 'place',\n",
       " 'obtain',\n",
       " 'analyze',\n",
       " 'datum',\n",
       " 'need',\n",
       " 'metric',\n",
       " 'time',\n",
       " 'think',\n",
       " 'factor',\n",
       " 'relate',\n",
       " 'data',\n",
       " 'availability',\n",
       " 'avoid',\n",
       " 'vague',\n",
       " 'super',\n",
       " 'high',\n",
       " 'level',\n",
       " 'metric',\n",
       " 'instead',\n",
       " 'clear',\n",
       " 'precise',\n",
       " 'inform',\n",
       " 'particular',\n",
       " 'action',\n",
       " 'smart',\n",
       " 'methodology',\n",
       " 'help',\n",
       " 'identify',\n",
       " 'key',\n",
       " 'metric',\n",
       " 'particular',\n",
       " 'issue',\n",
       " 'hand',\n",
       " 'know',\n",
       " 'tool',\n",
       " 'help',\n",
       " 'determine',\n",
       " 'question',\n",
       " 'effectiveness',\n",
       " 'help',\n",
       " 'refine',\n",
       " 'metric',\n",
       " 'base',\n",
       " 'specific',\n",
       " 'measurable',\n",
       " 'action',\n",
       " 'orient',\n",
       " 'relevant',\n",
       " 'time',\n",
       " 'bind',\n",
       " 'earn',\n",
       " 'Google',\n",
       " 'Data',\n",
       " 'Analytics',\n",
       " 'Certificate',\n",
       " 'learn',\n",
       " 'SMART',\n",
       " 'methodology',\n",
       " 'feel',\n",
       " 'free',\n",
       " 'review',\n",
       " 'lesson',\n",
       " 'move',\n",
       " 'ahead',\n",
       " 'final',\n",
       " 'point',\n",
       " 'wise',\n",
       " 'identify',\n",
       " 'important',\n",
       " 'metric',\n",
       " 'prominently',\n",
       " 'display',\n",
       " 'dashboard',\n",
       " 'support',\n",
       " 'metric',\n",
       " 'drill',\n",
       " 'detail',\n",
       " 'instance',\n",
       " 'make',\n",
       " 'dashboard',\n",
       " 'tomato',\n",
       " 'farm',\n",
       " 'number',\n",
       " 'tomato',\n",
       " 'pallet',\n",
       " 'ship',\n",
       " 'total',\n",
       " 'sale',\n",
       " 'key',\n",
       " 'metric',\n",
       " 'datum',\n",
       " 'support',\n",
       " 'pallet',\n",
       " 'shipment',\n",
       " 'worker',\n",
       " 'productivity',\n",
       " 'efficiency',\n",
       " 'harvesting',\n",
       " 'machine',\n",
       " 'display',\n",
       " 'underneath',\n",
       " 'addition',\n",
       " 'user',\n",
       " 'appreciate',\n",
       " 'group',\n",
       " 'relate',\n",
       " 'metric',\n",
       " 'tomato',\n",
       " 'farmer',\n",
       " 'mean',\n",
       " 'place',\n",
       " 'sale',\n",
       " 'datum',\n",
       " 'section',\n",
       " 'production',\n",
       " 'insight',\n",
       " 'harvest',\n",
       " 'rate',\n",
       " 'mind',\n",
       " 'good',\n",
       " 'metric',\n",
       " 'highlight',\n",
       " 'key',\n",
       " 'thing',\n",
       " 'organization',\n",
       " 'decision',\n",
       " 'maker',\n",
       " 'focus',\n",
       " 'word',\n",
       " 'ensure',\n",
       " 'dashboard',\n",
       " 'create',\n",
       " 'vain']"
      ]
     },
     "execution_count": 2,
     "metadata": {},
     "output_type": "execute_result"
    }
   ],
   "source": [
    "import spacy\n",
    "from spacy.lang.en.stop_words import STOP_WORDS\n",
    "import re\n",
    "\n",
    "def topic_mod_text_preprocess(text, lemmatization=True, return_list=True):\n",
    "    #instantiating English module\n",
    "    nlp = spacy.load('en_core_web_sm')\n",
    "\n",
    "    #creating doc object containing our token features\n",
    "    doc = nlp(text)\n",
    "\n",
    "    # tokenization, lemmatization and removing stop words.\n",
    "    if lemmatization:\n",
    "        tokens = [token.lemma_ for token in doc if not(token.is_stop) and not(token.is_punct)]\n",
    "    else:\n",
    "        tokens = [token.text for token in doc if not(token.is_stop) and not(token.is_punct)]\n",
    "\n",
    "    if return_list:\n",
    "        return tokens\n",
    "    else:\n",
    "        return \" \".join(tokens)\n",
    "    \n",
    "tokens = topic_mod_text_preprocess(sam1, lemmatization=True)\n",
    "tokens"
   ]
  },
  {
   "cell_type": "markdown",
   "metadata": {},
   "source": [
    "embeding words"
   ]
  },
  {
   "cell_type": "code",
   "execution_count": 3,
   "metadata": {},
   "outputs": [],
   "source": [
    "from gensim.models import KeyedVectors\n",
    "from os import path\n",
    "import numpy as np\n",
    "\n",
    "model_path = path.abspath('models/GoogleNews-vectors-negative300.bin')\n",
    "embed = KeyedVectors.load_word2vec_format(model_path, binary=True)"
   ]
  },
  {
   "cell_type": "code",
   "execution_count": 4,
   "metadata": {},
   "outputs": [],
   "source": [
    "vecs = np.array([embed.get_vector(token) for token in tokens])"
   ]
  },
  {
   "cell_type": "code",
   "execution_count": 5,
   "metadata": {},
   "outputs": [
    {
     "data": {
      "text/plain": [
       "(296, 300)"
      ]
     },
     "execution_count": 5,
     "metadata": {},
     "output_type": "execute_result"
    }
   ],
   "source": [
    "vecs.shape"
   ]
  },
  {
   "cell_type": "markdown",
   "metadata": {},
   "source": [
    "visualization"
   ]
  },
  {
   "cell_type": "code",
   "execution_count": 27,
   "metadata": {},
   "outputs": [],
   "source": [
    "import plotly.express as px\n",
    "import umap\n",
    "\n",
    "# dimensity reduction using UMAP\n",
    "reducer = umap.UMAP(n_neighbors=10, min_dist=0.5)\n",
    "red = reducer.fit_transform(vecs)"
   ]
  },
  {
   "cell_type": "code",
   "execution_count": 28,
   "metadata": {},
   "outputs": [
    {
     "data": {
      "application/vnd.plotly.v1+json": {
       "config": {
        "plotlyServerURL": "https://plot.ly"
       },
       "data": [
        {
         "hovertemplate": "<b>%{hovertext}</b><br><br>x=%{x}<br>y=%{y}<extra></extra>",
         "hovertext": [
          "Vanity",
          "interesting",
          "word",
          "look",
          "vanity",
          "dictionary",
          "discover",
          "mean",
          "excessive",
          "pride",
          "futile",
          "value",
          "intriguing",
          "think",
          "proud",
          "matter",
          "little",
          "happen",
          "especially",
          "come",
          "business",
          "metric",
          "fact",
          "business",
          "intelligence",
          "term",
          "phenomenon",
          "vanity",
          "metric",
          "vanity",
          "metric",
          "datum",
          "point",
          "intend",
          "impress",
          "indicative",
          "actual",
          "performance",
          "reveal",
          "meaningful",
          "business",
          "insight",
          "know",
          "vanity",
          "metric",
          "number",
          "people",
          "follow",
          "company",
          "social",
          "medium",
          "maybe",
          "hundred",
          "thousand",
          "follower",
          "actually",
          "make",
          "purchase",
          "refer",
          "customer",
          "site",
          "revenue",
          "actually",
          "generate",
          "business",
          "show",
          "number",
          "big",
          "rarely",
          "accomplish",
          "critical",
          "ensure",
          "metric",
          "monitor",
          "productive",
          "informative",
          "effective",
          "example",
          "useful",
          "business",
          "metric",
          "include",
          "restaurant",
          "customer",
          "loyalty",
          "rate",
          "manufacturing",
          "team",
          "productivity",
          "level",
          "fitness",
          "center",
          "monthly",
          "profit",
          "loss",
          "inventory",
          "pharmacy",
          "warehouse",
          "number",
          "lead",
          "useful",
          "business",
          "insight",
          "determine",
          "metric",
          "include",
          "dashboard",
          "BI",
          "professional",
          "consider",
          "key",
          "thing",
          "information",
          "necessarily",
          "well",
          "stakeholder",
          "appreciate",
          "limit",
          "number",
          "metric",
          "dashboard",
          "include",
          "critical",
          "project",
          "success",
          "think",
          "user",
          "requirement",
          "user",
          "know",
          "need",
          "learn",
          "help",
          "meet",
          "requirement",
          "metric",
          "especially",
          "irrelevant",
          "unnecessary",
          "metric",
          "confuse",
          "people",
          "devalue",
          "dashboard",
          "make",
          "sure",
          "metric",
          "align",
          "business",
          "objective",
          "consider",
          "organization",
          "specific",
          "goal",
          "pinpoint",
          "metric",
          "support",
          "measure",
          "success",
          "confirm",
          "necessary",
          "technology",
          "process",
          "place",
          "obtain",
          "analyze",
          "datum",
          "need",
          "metric",
          "time",
          "think",
          "factor",
          "relate",
          "data",
          "availability",
          "avoid",
          "vague",
          "super",
          "high",
          "level",
          "metric",
          "instead",
          "clear",
          "precise",
          "inform",
          "particular",
          "action",
          "smart",
          "methodology",
          "help",
          "identify",
          "key",
          "metric",
          "particular",
          "issue",
          "hand",
          "know",
          "tool",
          "help",
          "determine",
          "question",
          "effectiveness",
          "help",
          "refine",
          "metric",
          "base",
          "specific",
          "measurable",
          "action",
          "orient",
          "relevant",
          "time",
          "bind",
          "earn",
          "Google",
          "Data",
          "Analytics",
          "Certificate",
          "learn",
          "SMART",
          "methodology",
          "feel",
          "free",
          "review",
          "lesson",
          "move",
          "ahead",
          "final",
          "point",
          "wise",
          "identify",
          "important",
          "metric",
          "prominently",
          "display",
          "dashboard",
          "support",
          "metric",
          "drill",
          "detail",
          "instance",
          "make",
          "dashboard",
          "tomato",
          "farm",
          "number",
          "tomato",
          "pallet",
          "ship",
          "total",
          "sale",
          "key",
          "metric",
          "datum",
          "support",
          "pallet",
          "shipment",
          "worker",
          "productivity",
          "efficiency",
          "harvesting",
          "machine",
          "display",
          "underneath",
          "addition",
          "user",
          "appreciate",
          "group",
          "relate",
          "metric",
          "tomato",
          "farmer",
          "mean",
          "place",
          "sale",
          "datum",
          "section",
          "production",
          "insight",
          "harvest",
          "rate",
          "mind",
          "good",
          "metric",
          "highlight",
          "key",
          "thing",
          "organization",
          "decision",
          "maker",
          "focus",
          "word",
          "ensure",
          "dashboard",
          "create",
          "vain"
         ],
         "legendgroup": "",
         "marker": {
          "color": "#636efa",
          "symbol": "circle"
         },
         "mode": "markers",
         "name": "",
         "orientation": "v",
         "showlegend": false,
         "type": "scatter",
         "x": [
          3.1318492889404297,
          8.006165504455566,
          13.11078929901123,
          12.88455581665039,
          2.8582544326782227,
          12.920961380004883,
          11.321701049804688,
          14.053157806396484,
          10.238247871398926,
          11.893238067626953,
          9.094064712524414,
          13.110784530639648,
          8.58023738861084,
          12.635639190673828,
          11.271347045898438,
          11.750415802001953,
          12.089812278747559,
          11.517359733581543,
          10.91534423828125,
          10.501258850097656,
          15.233601570129395,
          -9.847357749938965,
          11.572242736816406,
          15.243038177490234,
          13.400154113769531,
          11.642202377319336,
          11.612156867980957,
          2.7564260959625244,
          -10.29413890838623,
          2.972376823425293,
          -9.989298820495605,
          9.796866416931152,
          10.492478370666504,
          8.00371265411377,
          10.06187915802002,
          13.635976791381836,
          11.625406265258789,
          10.745352745056152,
          11.152091979980469,
          9.43215274810791,
          15.340949058532715,
          8.60346508026123,
          11.968701362609863,
          3.030198335647583,
          -10.50555419921875,
          10.569064140319824,
          12.914137840270996,
          10.565298080444336,
          14.821378707885742,
          13.394906044006348,
          14.2348051071167,
          12.599494934082031,
          12.194430351257324,
          12.464705467224121,
          12.22629451751709,
          12.479849815368652,
          9.886251449584961,
          15.585938453674316,
          12.109415054321289,
          15.811436653137207,
          12.799454689025879,
          16.114654541015625,
          12.147188186645508,
          8.79360294342041,
          15.814476013183594,
          11.136811256408691,
          10.697883605957031,
          11.68222713470459,
          11.644603729248047,
          9.89128589630127,
          6.536738395690918,
          10.015700340270996,
          -10.008919715881348,
          9.318683624267578,
          9.262306213378906,
          7.647177696228027,
          7.8539228439331055,
          11.014998435974121,
          7.205482482910156,
          15.367157936096191,
          -9.626587867736816,
          14.441962242126465,
          15.464269638061523,
          16.114299774169922,
          7.486732482910156,
          10.411238670349121,
          15.333246231079102,
          12.360982894897461,
          15.109199523925781,
          10.589935302734375,
          12.086830139160156,
          12.348240852355957,
          11.71564769744873,
          15.994032859802246,
          11.094491004943848,
          15.615337371826172,
          15.504672050476074,
          14.99462604522705,
          10.761449813842773,
          10.878927230834961,
          7.200335502624512,
          15.279682159423828,
          8.610044479370117,
          10.192386627197266,
          -10.223868370056152,
          14.456170082092285,
          5.647722244262695,
          15.316276550292969,
          15.831284523010254,
          12.49500560760498,
          6.381716251373291,
          12.87207317352295,
          13.592309951782227,
          13.698686599731445,
          11.65425968170166,
          15.701517105102539,
          11.671765327453613,
          10.214964866638184,
          10.432147026062012,
          -9.825634956359863,
          5.458635330200195,
          14.528514862060547,
          6.498408317565918,
          14.046740531921387,
          10.114034652709961,
          12.728818893432617,
          16.58470344543457,
          7.735350131988525,
          16.513765335083008,
          11.623701095581055,
          7.7445387840271,
          11.756401062011719,
          7.527056694030762,
          9.84826374053955,
          7.624415874481201,
          -9.72364330291748,
          10.810871124267578,
          11.697073936462402,
          9.594006538391113,
          -9.655908584594727,
          11.738434791564941,
          13.022128105163574,
          13.703784942626953,
          5.468587398529053,
          9.736762046813965,
          11.003429412841797,
          -10.26001262664795,
          9.794402122497559,
          15.596392631530762,
          10.17406177520752,
          12.541756629943848,
          12.850122451782227,
          9.482650756835938,
          10.204200744628906,
          9.934372901916504,
          -10.192571640014648,
          7.79702615737915,
          11.905835151672363,
          10.31320571899414,
          10.963848114013672,
          8.078409194946289,
          14.283108711242676,
          12.95481014251709,
          11.532092094421387,
          9.613714218139648,
          9.553621292114258,
          9.934128761291504,
          7.6810431480407715,
          -9.656379699707031,
          11.229348182678223,
          12.496142387390137,
          10.55776309967041,
          11.59036922454834,
          13.732266426086426,
          10.650542259216309,
          10.059565544128418,
          9.684186935424805,
          12.062143325805664,
          10.502852439880371,
          10.492284774780273,
          -9.90507984161377,
          11.34420108795166,
          11.312602996826172,
          9.91951847076416,
          11.351208686828613,
          9.945770263671875,
          11.113780975341797,
          11.778474807739258,
          13.664678573608398,
          7.882140636444092,
          9.815319061279297,
          6.537728309631348,
          -10.470868110656738,
          10.288520812988281,
          11.284573554992676,
          11.987664222717285,
          11.847949981689453,
          6.127381324768066,
          8.110712051391602,
          10.244729995727539,
          11.616806983947754,
          11.911408424377441,
          8.154512405395508,
          8.887110710144043,
          -9.9849853515625,
          11.121430397033691,
          9.680928230285645,
          9.692371368408203,
          10.87346363067627,
          7.546782970428467,
          9.037205696105957,
          12.0017728805542,
          8.43596363067627,
          9.489169120788574,
          12.880390167236328,
          14.125436782836914,
          14.501583099365234,
          8.038572311401367,
          11.620071411132812,
          13.340324401855469,
          13.694060325622559,
          12.8186616897583,
          12.233975410461426,
          12.692754745483398,
          12.537873268127441,
          11.247442245483398,
          11.688806533813477,
          11.560362815856934,
          10.633023262023926,
          12.149742126464844,
          9.786486625671387,
          7.027578353881836,
          -10.216025352478027,
          9.849264144897461,
          10.675346374511719,
          5.741974830627441,
          7.926825046539307,
          -10.151442527770996,
          12.134674072265625,
          9.173319816589355,
          11.010917663574219,
          9.534139633178711,
          5.646777629852295,
          12.798368453979492,
          14.707794189453125,
          10.598111152648926,
          12.703146934509277,
          14.795284271240234,
          13.578842163085938,
          10.777913093566895,
          15.665124893188477,
          6.6784467697143555,
          -9.665247917175293,
          10.132494926452637,
          7.617007255554199,
          14.475460052490234,
          15.03404712677002,
          13.479111671447754,
          14.89748764038086,
          14.625992774963379,
          13.425304412841797,
          12.316912651062012,
          10.722672462463379,
          12.53042984008789,
          11.041897773742676,
          16.404964447021484,
          11.900484085083008,
          12.698739051818848,
          11.746179580688477,
          -9.468138694763184,
          12.730252265930176,
          14.7022066116333,
          13.914399147033691,
          11.504403114318848,
          15.7222318649292,
          10.048294067382812,
          12.418550491333008,
          15.05990219116211,
          8.570483207702637,
          14.107800483703613,
          10.383957862854004,
          12.41334056854248,
          11.856725692749023,
          -10.017403602600098,
          10.473409652709961,
          6.3323445320129395,
          12.919988632202148,
          12.94926929473877,
          11.133870124816895,
          14.634958267211914,
          10.607410430908203,
          13.07010269165039,
          9.915733337402344,
          5.4295172691345215,
          9.015656471252441,
          8.73359203338623
         ],
         "xaxis": "x",
         "y": [
          0.5466729402542114,
          6.79932975769043,
          7.715641021728516,
          9.556632041931152,
          0.8199993968009949,
          7.473024845123291,
          10.77447509765625,
          8.387948036193848,
          6.817948341369629,
          6.185232639312744,
          8.081789016723633,
          6.510019779205322,
          6.67324161529541,
          9.957954406738281,
          9.682328224182129,
          9.008376121520996,
          7.799447536468506,
          9.25192928314209,
          6.956250190734863,
          8.531022071838379,
          3.502174139022827,
          -31.64369010925293,
          6.70552396774292,
          3.327043056488037,
          6.366082668304443,
          4.99424409866333,
          6.831615924835205,
          0.9223453998565674,
          -31.621389389038086,
          0.7052104473114014,
          -31.941455841064453,
          4.626885890960693,
          4.537482261657715,
          8.794181823730469,
          9.229723930358887,
          8.321356773376465,
          6.886452674865723,
          7.12156867980957,
          10.013120651245117,
          7.088940143585205,
          3.2978627681732178,
          5.46484899520874,
          10.129399299621582,
          0.6480140089988708,
          -31.2286434173584,
          2.069976329803467,
          6.898593425750732,
          8.981205940246582,
          4.120269775390625,
          6.6677045822143555,
          3.5631587505340576,
          8.129830360412598,
          6.573212623596191,
          6.456508159637451,
          7.723481178283691,
          7.208435535430908,
          9.096351623535156,
          4.95558500289917,
          9.957605361938477,
          2.875014543533325,
          5.267416477203369,
          3.997262716293335,
          6.954368591308594,
          9.277626037597656,
          3.748638153076172,
          8.338212013244629,
          2.0590896606445312,
          7.706759452819824,
          7.246306896209717,
          8.693974494934082,
          6.198349952697754,
          9.949930191040039,
          -31.22997283935547,
          10.345322608947754,
          6.818173408508301,
          6.829599857330322,
          7.354598045349121,
          6.963636875152588,
          7.140183448791504,
          3.5804085731506348,
          -30.98573875427246,
          8.610891342163086,
          3.1070902347564697,
          3.2298247814178467,
          10.180856704711914,
          3.5794341564178467,
          3.9444985389709473,
          4.827913284301758,
          5.029059410095215,
          4.102332592010498,
          5.6888108253479,
          5.078821659088135,
          5.806350231170654,
          4.1782755851745605,
          6.655050754547119,
          2.9690937995910645,
          3.2783315181732178,
          2.966963768005371,
          2.3255953788757324,
          4.679572105407715,
          7.136655807495117,
          3.750523567199707,
          5.583433628082275,
          10.635374069213867,
          -31.01844596862793,
          8.582365036010742,
          7.888505458831787,
          3.9004011154174805,
          3.469125747680664,
          9.629881858825684,
          6.128208160400391,
          10.305459022521973,
          4.735098838806152,
          8.206510543823242,
          7.360011577606201,
          3.7345142364501953,
          10.099935531616211,
          4.020633220672607,
          2.1632468700408936,
          -31.011472702026367,
          7.659845352172852,
          8.410722732543945,
          6.1600341796875,
          4.980095863342285,
          7.449363708496094,
          9.716888427734375,
          2.802661895751953,
          8.455842971801758,
          3.0397050380706787,
          9.957894325256348,
          9.010313034057617,
          10.958684921264648,
          9.667587280273438,
          8.476229667663574,
          8.390013694763184,
          -31.49793243408203,
          7.309360980987549,
          7.971755027770996,
          7.62938928604126,
          -31.402408599853516,
          9.663390159606934,
          6.814399719238281,
          8.009326934814453,
          7.95684814453125,
          8.930224418640137,
          9.725289344787598,
          -31.03829002380371,
          9.401222229003906,
          3.3115265369415283,
          5.787812232971191,
          9.569525718688965,
          4.243021011352539,
          6.079226970672607,
          5.1001787185668945,
          11.058954238891602,
          -31.517593383789062,
          9.896991729736328,
          7.010526180267334,
          7.486990451812744,
          10.48758316040039,
          8.339066505432129,
          4.7784295082092285,
          5.925625801086426,
          5.246926784515381,
          9.322982788085938,
          10.69600772857666,
          4.585443496704102,
          9.097468376159668,
          -31.685073852539062,
          5.790963649749756,
          10.015853881835938,
          7.2072367668151855,
          10.511935234069824,
          4.401063919067383,
          6.934135437011719,
          8.3580904006958,
          6.386257648468018,
          7.262928485870361,
          4.883391380310059,
          4.097160816192627,
          -30.928524017333984,
          7.239416599273682,
          8.751654624938965,
          6.524619102478027,
          10.045563697814941,
          6.197087287902832,
          5.303214073181152,
          8.287700653076172,
          5.257165908813477,
          9.44454574584961,
          10.656549453735352,
          5.8924760818481445,
          -30.87143325805664,
          6.108810901641846,
          8.262803077697754,
          7.053868293762207,
          9.784339904785156,
          7.733844757080078,
          9.610822677612305,
          10.893906593322754,
          9.214848518371582,
          6.055555820465088,
          9.530550956726074,
          10.027411460876465,
          -31.326749801635742,
          7.537616729736328,
          6.186374187469482,
          7.179624080657959,
          5.5117058753967285,
          9.362499237060547,
          6.538130283355713,
          5.578099727630615,
          9.269951820373535,
          9.056732177734375,
          5.824995040893555,
          4.102415561676025,
          4.4120259284973145,
          8.057777404785156,
          10.808016777038574,
          5.9742865562438965,
          5.304657936096191,
          10.101341247558594,
          6.488560199737549,
          8.999034881591797,
          10.675110816955566,
          5.952576637268066,
          5.401618480682373,
          5.735064506530762,
          4.761198043823242,
          8.204891204833984,
          10.885628700256348,
          6.444883823394775,
          -31.52593231201172,
          6.063498020172119,
          8.01901626586914,
          7.975134372711182,
          10.016593933105469,
          -30.938926696777344,
          6.551865100860596,
          5.7158966064453125,
          6.747838973999023,
          9.084179878234863,
          7.774770259857178,
          7.394883155822754,
          3.5115816593170166,
          2.4258549213409424,
          7.4239182472229,
          2.819946527481079,
          6.16110897064209,
          2.295077085494995,
          4.6251606941223145,
          6.0034379959106445,
          -30.905202865600586,
          4.295040607452393,
          10.048203468322754,
          2.6521146297454834,
          5.2386064529418945,
          6.907530307769775,
          4.936478614807129,
          5.3649163246154785,
          4.594104766845703,
          6.6682634353637695,
          7.755959510803223,
          6.84793758392334,
          6.555009841918945,
          2.745863914489746,
          9.97291088104248,
          4.635871410369873,
          10.51159954071045,
          -31.239347457885742,
          7.113778114318848,
          3.6912026405334473,
          8.280930519104004,
          5.307107925415039,
          4.726654529571533,
          4.469051837921143,
          5.124490737915039,
          4.491279602050781,
          5.516369819641113,
          3.8879077434539795,
          3.5872976779937744,
          7.842692852020264,
          8.221799850463867,
          -31.064937591552734,
          7.895453929901123,
          6.031803607940674,
          10.373170852661133,
          4.216893196105957,
          6.45806360244751,
          3.796159029006958,
          6.275389671325684,
          7.3210248947143555,
          9.757965087890625,
          7.714293956756592,
          9.429712295532227,
          8.558080673217773
         ],
         "yaxis": "y"
        }
       ],
       "layout": {
        "dragmode": "pan",
        "height": 600,
        "legend": {
         "tracegroupgap": 0
        },
        "margin": {
         "t": 60
        },
        "template": {
         "data": {
          "bar": [
           {
            "error_x": {
             "color": "#2a3f5f"
            },
            "error_y": {
             "color": "#2a3f5f"
            },
            "marker": {
             "line": {
              "color": "#E5ECF6",
              "width": 0.5
             },
             "pattern": {
              "fillmode": "overlay",
              "size": 10,
              "solidity": 0.2
             }
            },
            "type": "bar"
           }
          ],
          "barpolar": [
           {
            "marker": {
             "line": {
              "color": "#E5ECF6",
              "width": 0.5
             },
             "pattern": {
              "fillmode": "overlay",
              "size": 10,
              "solidity": 0.2
             }
            },
            "type": "barpolar"
           }
          ],
          "carpet": [
           {
            "aaxis": {
             "endlinecolor": "#2a3f5f",
             "gridcolor": "white",
             "linecolor": "white",
             "minorgridcolor": "white",
             "startlinecolor": "#2a3f5f"
            },
            "baxis": {
             "endlinecolor": "#2a3f5f",
             "gridcolor": "white",
             "linecolor": "white",
             "minorgridcolor": "white",
             "startlinecolor": "#2a3f5f"
            },
            "type": "carpet"
           }
          ],
          "choropleth": [
           {
            "colorbar": {
             "outlinewidth": 0,
             "ticks": ""
            },
            "type": "choropleth"
           }
          ],
          "contour": [
           {
            "colorbar": {
             "outlinewidth": 0,
             "ticks": ""
            },
            "colorscale": [
             [
              0,
              "#0d0887"
             ],
             [
              0.1111111111111111,
              "#46039f"
             ],
             [
              0.2222222222222222,
              "#7201a8"
             ],
             [
              0.3333333333333333,
              "#9c179e"
             ],
             [
              0.4444444444444444,
              "#bd3786"
             ],
             [
              0.5555555555555556,
              "#d8576b"
             ],
             [
              0.6666666666666666,
              "#ed7953"
             ],
             [
              0.7777777777777778,
              "#fb9f3a"
             ],
             [
              0.8888888888888888,
              "#fdca26"
             ],
             [
              1,
              "#f0f921"
             ]
            ],
            "type": "contour"
           }
          ],
          "contourcarpet": [
           {
            "colorbar": {
             "outlinewidth": 0,
             "ticks": ""
            },
            "type": "contourcarpet"
           }
          ],
          "heatmap": [
           {
            "colorbar": {
             "outlinewidth": 0,
             "ticks": ""
            },
            "colorscale": [
             [
              0,
              "#0d0887"
             ],
             [
              0.1111111111111111,
              "#46039f"
             ],
             [
              0.2222222222222222,
              "#7201a8"
             ],
             [
              0.3333333333333333,
              "#9c179e"
             ],
             [
              0.4444444444444444,
              "#bd3786"
             ],
             [
              0.5555555555555556,
              "#d8576b"
             ],
             [
              0.6666666666666666,
              "#ed7953"
             ],
             [
              0.7777777777777778,
              "#fb9f3a"
             ],
             [
              0.8888888888888888,
              "#fdca26"
             ],
             [
              1,
              "#f0f921"
             ]
            ],
            "type": "heatmap"
           }
          ],
          "heatmapgl": [
           {
            "colorbar": {
             "outlinewidth": 0,
             "ticks": ""
            },
            "colorscale": [
             [
              0,
              "#0d0887"
             ],
             [
              0.1111111111111111,
              "#46039f"
             ],
             [
              0.2222222222222222,
              "#7201a8"
             ],
             [
              0.3333333333333333,
              "#9c179e"
             ],
             [
              0.4444444444444444,
              "#bd3786"
             ],
             [
              0.5555555555555556,
              "#d8576b"
             ],
             [
              0.6666666666666666,
              "#ed7953"
             ],
             [
              0.7777777777777778,
              "#fb9f3a"
             ],
             [
              0.8888888888888888,
              "#fdca26"
             ],
             [
              1,
              "#f0f921"
             ]
            ],
            "type": "heatmapgl"
           }
          ],
          "histogram": [
           {
            "marker": {
             "pattern": {
              "fillmode": "overlay",
              "size": 10,
              "solidity": 0.2
             }
            },
            "type": "histogram"
           }
          ],
          "histogram2d": [
           {
            "colorbar": {
             "outlinewidth": 0,
             "ticks": ""
            },
            "colorscale": [
             [
              0,
              "#0d0887"
             ],
             [
              0.1111111111111111,
              "#46039f"
             ],
             [
              0.2222222222222222,
              "#7201a8"
             ],
             [
              0.3333333333333333,
              "#9c179e"
             ],
             [
              0.4444444444444444,
              "#bd3786"
             ],
             [
              0.5555555555555556,
              "#d8576b"
             ],
             [
              0.6666666666666666,
              "#ed7953"
             ],
             [
              0.7777777777777778,
              "#fb9f3a"
             ],
             [
              0.8888888888888888,
              "#fdca26"
             ],
             [
              1,
              "#f0f921"
             ]
            ],
            "type": "histogram2d"
           }
          ],
          "histogram2dcontour": [
           {
            "colorbar": {
             "outlinewidth": 0,
             "ticks": ""
            },
            "colorscale": [
             [
              0,
              "#0d0887"
             ],
             [
              0.1111111111111111,
              "#46039f"
             ],
             [
              0.2222222222222222,
              "#7201a8"
             ],
             [
              0.3333333333333333,
              "#9c179e"
             ],
             [
              0.4444444444444444,
              "#bd3786"
             ],
             [
              0.5555555555555556,
              "#d8576b"
             ],
             [
              0.6666666666666666,
              "#ed7953"
             ],
             [
              0.7777777777777778,
              "#fb9f3a"
             ],
             [
              0.8888888888888888,
              "#fdca26"
             ],
             [
              1,
              "#f0f921"
             ]
            ],
            "type": "histogram2dcontour"
           }
          ],
          "mesh3d": [
           {
            "colorbar": {
             "outlinewidth": 0,
             "ticks": ""
            },
            "type": "mesh3d"
           }
          ],
          "parcoords": [
           {
            "line": {
             "colorbar": {
              "outlinewidth": 0,
              "ticks": ""
             }
            },
            "type": "parcoords"
           }
          ],
          "pie": [
           {
            "automargin": true,
            "type": "pie"
           }
          ],
          "scatter": [
           {
            "fillpattern": {
             "fillmode": "overlay",
             "size": 10,
             "solidity": 0.2
            },
            "type": "scatter"
           }
          ],
          "scatter3d": [
           {
            "line": {
             "colorbar": {
              "outlinewidth": 0,
              "ticks": ""
             }
            },
            "marker": {
             "colorbar": {
              "outlinewidth": 0,
              "ticks": ""
             }
            },
            "type": "scatter3d"
           }
          ],
          "scattercarpet": [
           {
            "marker": {
             "colorbar": {
              "outlinewidth": 0,
              "ticks": ""
             }
            },
            "type": "scattercarpet"
           }
          ],
          "scattergeo": [
           {
            "marker": {
             "colorbar": {
              "outlinewidth": 0,
              "ticks": ""
             }
            },
            "type": "scattergeo"
           }
          ],
          "scattergl": [
           {
            "marker": {
             "colorbar": {
              "outlinewidth": 0,
              "ticks": ""
             }
            },
            "type": "scattergl"
           }
          ],
          "scattermapbox": [
           {
            "marker": {
             "colorbar": {
              "outlinewidth": 0,
              "ticks": ""
             }
            },
            "type": "scattermapbox"
           }
          ],
          "scatterpolar": [
           {
            "marker": {
             "colorbar": {
              "outlinewidth": 0,
              "ticks": ""
             }
            },
            "type": "scatterpolar"
           }
          ],
          "scatterpolargl": [
           {
            "marker": {
             "colorbar": {
              "outlinewidth": 0,
              "ticks": ""
             }
            },
            "type": "scatterpolargl"
           }
          ],
          "scatterternary": [
           {
            "marker": {
             "colorbar": {
              "outlinewidth": 0,
              "ticks": ""
             }
            },
            "type": "scatterternary"
           }
          ],
          "surface": [
           {
            "colorbar": {
             "outlinewidth": 0,
             "ticks": ""
            },
            "colorscale": [
             [
              0,
              "#0d0887"
             ],
             [
              0.1111111111111111,
              "#46039f"
             ],
             [
              0.2222222222222222,
              "#7201a8"
             ],
             [
              0.3333333333333333,
              "#9c179e"
             ],
             [
              0.4444444444444444,
              "#bd3786"
             ],
             [
              0.5555555555555556,
              "#d8576b"
             ],
             [
              0.6666666666666666,
              "#ed7953"
             ],
             [
              0.7777777777777778,
              "#fb9f3a"
             ],
             [
              0.8888888888888888,
              "#fdca26"
             ],
             [
              1,
              "#f0f921"
             ]
            ],
            "type": "surface"
           }
          ],
          "table": [
           {
            "cells": {
             "fill": {
              "color": "#EBF0F8"
             },
             "line": {
              "color": "white"
             }
            },
            "header": {
             "fill": {
              "color": "#C8D4E3"
             },
             "line": {
              "color": "white"
             }
            },
            "type": "table"
           }
          ]
         },
         "layout": {
          "annotationdefaults": {
           "arrowcolor": "#2a3f5f",
           "arrowhead": 0,
           "arrowwidth": 1
          },
          "autotypenumbers": "strict",
          "coloraxis": {
           "colorbar": {
            "outlinewidth": 0,
            "ticks": ""
           }
          },
          "colorscale": {
           "diverging": [
            [
             0,
             "#8e0152"
            ],
            [
             0.1,
             "#c51b7d"
            ],
            [
             0.2,
             "#de77ae"
            ],
            [
             0.3,
             "#f1b6da"
            ],
            [
             0.4,
             "#fde0ef"
            ],
            [
             0.5,
             "#f7f7f7"
            ],
            [
             0.6,
             "#e6f5d0"
            ],
            [
             0.7,
             "#b8e186"
            ],
            [
             0.8,
             "#7fbc41"
            ],
            [
             0.9,
             "#4d9221"
            ],
            [
             1,
             "#276419"
            ]
           ],
           "sequential": [
            [
             0,
             "#0d0887"
            ],
            [
             0.1111111111111111,
             "#46039f"
            ],
            [
             0.2222222222222222,
             "#7201a8"
            ],
            [
             0.3333333333333333,
             "#9c179e"
            ],
            [
             0.4444444444444444,
             "#bd3786"
            ],
            [
             0.5555555555555556,
             "#d8576b"
            ],
            [
             0.6666666666666666,
             "#ed7953"
            ],
            [
             0.7777777777777778,
             "#fb9f3a"
            ],
            [
             0.8888888888888888,
             "#fdca26"
            ],
            [
             1,
             "#f0f921"
            ]
           ],
           "sequentialminus": [
            [
             0,
             "#0d0887"
            ],
            [
             0.1111111111111111,
             "#46039f"
            ],
            [
             0.2222222222222222,
             "#7201a8"
            ],
            [
             0.3333333333333333,
             "#9c179e"
            ],
            [
             0.4444444444444444,
             "#bd3786"
            ],
            [
             0.5555555555555556,
             "#d8576b"
            ],
            [
             0.6666666666666666,
             "#ed7953"
            ],
            [
             0.7777777777777778,
             "#fb9f3a"
            ],
            [
             0.8888888888888888,
             "#fdca26"
            ],
            [
             1,
             "#f0f921"
            ]
           ]
          },
          "colorway": [
           "#636efa",
           "#EF553B",
           "#00cc96",
           "#ab63fa",
           "#FFA15A",
           "#19d3f3",
           "#FF6692",
           "#B6E880",
           "#FF97FF",
           "#FECB52"
          ],
          "font": {
           "color": "#2a3f5f"
          },
          "geo": {
           "bgcolor": "white",
           "lakecolor": "white",
           "landcolor": "#E5ECF6",
           "showlakes": true,
           "showland": true,
           "subunitcolor": "white"
          },
          "hoverlabel": {
           "align": "left"
          },
          "hovermode": "closest",
          "mapbox": {
           "style": "light"
          },
          "paper_bgcolor": "white",
          "plot_bgcolor": "#E5ECF6",
          "polar": {
           "angularaxis": {
            "gridcolor": "white",
            "linecolor": "white",
            "ticks": ""
           },
           "bgcolor": "#E5ECF6",
           "radialaxis": {
            "gridcolor": "white",
            "linecolor": "white",
            "ticks": ""
           }
          },
          "scene": {
           "xaxis": {
            "backgroundcolor": "#E5ECF6",
            "gridcolor": "white",
            "gridwidth": 2,
            "linecolor": "white",
            "showbackground": true,
            "ticks": "",
            "zerolinecolor": "white"
           },
           "yaxis": {
            "backgroundcolor": "#E5ECF6",
            "gridcolor": "white",
            "gridwidth": 2,
            "linecolor": "white",
            "showbackground": true,
            "ticks": "",
            "zerolinecolor": "white"
           },
           "zaxis": {
            "backgroundcolor": "#E5ECF6",
            "gridcolor": "white",
            "gridwidth": 2,
            "linecolor": "white",
            "showbackground": true,
            "ticks": "",
            "zerolinecolor": "white"
           }
          },
          "shapedefaults": {
           "line": {
            "color": "#2a3f5f"
           }
          },
          "ternary": {
           "aaxis": {
            "gridcolor": "white",
            "linecolor": "white",
            "ticks": ""
           },
           "baxis": {
            "gridcolor": "white",
            "linecolor": "white",
            "ticks": ""
           },
           "bgcolor": "#E5ECF6",
           "caxis": {
            "gridcolor": "white",
            "linecolor": "white",
            "ticks": ""
           }
          },
          "title": {
           "x": 0.05
          },
          "xaxis": {
           "automargin": true,
           "gridcolor": "white",
           "linecolor": "white",
           "ticks": "",
           "title": {
            "standoff": 15
           },
           "zerolinecolor": "white",
           "zerolinewidth": 2
          },
          "yaxis": {
           "automargin": true,
           "gridcolor": "white",
           "linecolor": "white",
           "ticks": "",
           "title": {
            "standoff": 15
           },
           "zerolinecolor": "white",
           "zerolinewidth": 2
          }
         }
        },
        "xaxis": {
         "anchor": "y",
         "domain": [
          0,
          1
         ],
         "title": {
          "text": "x"
         }
        },
        "yaxis": {
         "anchor": "x",
         "domain": [
          0,
          1
         ],
         "title": {
          "text": "y"
         }
        }
       }
      }
     },
     "metadata": {},
     "output_type": "display_data"
    }
   ],
   "source": [
    "fig = px.scatter(\n",
    "    x = red[:,0] , y = red[:,1],\n",
    "    # color=\"cluster_id\", \n",
    "    # symbol=\"cluster_id\",\n",
    "    # size='len',\n",
    "    hover_name=tokens,\n",
    "    color_continuous_scale=px.colors.sequential.Turbo,\n",
    "    )\n",
    "fig.update_layout(\n",
    "    dragmode='pan',\n",
    "    height=600,\n",
    "    template='plotly'\n",
    "    )\n",
    "fig.show()"
   ]
  }
 ],
 "metadata": {
  "kernelspec": {
   "display_name": ".venv",
   "language": "python",
   "name": "python3"
  },
  "language_info": {
   "codemirror_mode": {
    "name": "ipython",
    "version": 3
   },
   "file_extension": ".py",
   "mimetype": "text/x-python",
   "name": "python",
   "nbconvert_exporter": "python",
   "pygments_lexer": "ipython3",
   "version": "3.10.11"
  },
  "orig_nbformat": 4
 },
 "nbformat": 4,
 "nbformat_minor": 2
}
